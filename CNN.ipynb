{
 "cells": [
  {
   "cell_type": "code",
   "execution_count": 2,
   "metadata": {
    "ExecuteTime": {
     "end_time": "2019-09-17T13:27:38.342890Z",
     "start_time": "2019-09-17T13:27:38.338847Z"
    }
   },
   "outputs": [],
   "source": [
    "import tensorflow as tf\n",
    "from tensorflow.keras import layers"
   ]
  },
  {
   "cell_type": "code",
   "execution_count": 54,
   "metadata": {
    "ExecuteTime": {
     "end_time": "2019-09-17T13:52:13.649374Z",
     "start_time": "2019-09-17T13:52:12.636342Z"
    }
   },
   "outputs": [],
   "source": [
    "model = tf.keras.Sequential()\n",
    "# layer 1\n",
    "model.add(layers.Dense(3*32*32, input_shape=(100, )))\n",
    "model.add(layers.BatchNormalization())\n",
    "model.add(layers.LeakyReLU())\n",
    "\n",
    "model.add(layers.Reshape((32, 32, 3)))\n",
    "\n",
    "# ConT 1\n",
    "model.add(layers.Conv2DTranspose(256, 3, 1, padding='same'))\n",
    "model.add(layers.BatchNormalization())\n",
    "model.add(layers.LeakyReLU())\n",
    "\n",
    "# ConT 2\n",
    "model.add(layers.Conv2DTranspose(128, 3, 2, padding='same'))\n",
    "model.add(layers.BatchNormalization())\n",
    "model.add(layers.LeakyReLU())\n",
    "\n",
    "model.add(layers.Conv2DTranspose(64, 3, 3, padding='same'))\n",
    "model.add(layers.BatchNormalization())\n",
    "model.add(layers.MaxPool2D())\n",
    "model.add(layers.LeakyReLU())\n",
    "\n",
    "\n",
    "model.add(layers.Conv2DTranspose(64, 3, 1, padding='same'))\n",
    "model.add(layers.BatchNormalization())\n",
    "model.add(layers.MaxPool2D())\n",
    "model.add(layers.LeakyReLU())\n",
    "\n",
    "model.add(layers.Conv2DTranspose(3, 3, 2, padding='same'))\n",
    "model.add(layers.BatchNormalization())\n",
    "model.add(layers.MaxPool2D(3,3))\n",
    "model.add(layers.LeakyReLU())\n"
   ]
  },
  {
   "cell_type": "code",
   "execution_count": 55,
   "metadata": {
    "ExecuteTime": {
     "end_time": "2019-09-17T13:52:14.928575Z",
     "start_time": "2019-09-17T13:52:14.901867Z"
    }
   },
   "outputs": [
    {
     "name": "stdout",
     "output_type": "stream",
     "text": [
      "Model: \"sequential_24\"\n",
      "_________________________________________________________________\n",
      "Layer (type)                 Output Shape              Param #   \n",
      "=================================================================\n",
      "dense_25 (Dense)             (None, 3072)              310272    \n",
      "_________________________________________________________________\n",
      "batch_normalization_74 (Batc (None, 3072)              12288     \n",
      "_________________________________________________________________\n",
      "leaky_re_lu_74 (LeakyReLU)   (None, 3072)              0         \n",
      "_________________________________________________________________\n",
      "reshape_18 (Reshape)         (None, 32, 32, 3)         0         \n",
      "_________________________________________________________________\n",
      "conv2d_transpose_54 (Conv2DT (None, 32, 32, 256)       7168      \n",
      "_________________________________________________________________\n",
      "batch_normalization_75 (Batc (None, 32, 32, 256)       1024      \n",
      "_________________________________________________________________\n",
      "leaky_re_lu_75 (LeakyReLU)   (None, 32, 32, 256)       0         \n",
      "_________________________________________________________________\n",
      "conv2d_transpose_55 (Conv2DT (None, 64, 64, 128)       295040    \n",
      "_________________________________________________________________\n",
      "batch_normalization_76 (Batc (None, 64, 64, 128)       512       \n",
      "_________________________________________________________________\n",
      "leaky_re_lu_76 (LeakyReLU)   (None, 64, 64, 128)       0         \n",
      "_________________________________________________________________\n",
      "conv2d_transpose_56 (Conv2DT (None, 192, 192, 64)      73792     \n",
      "_________________________________________________________________\n",
      "batch_normalization_77 (Batc (None, 192, 192, 64)      256       \n",
      "_________________________________________________________________\n",
      "max_pooling2d_9 (MaxPooling2 (None, 96, 96, 64)        0         \n",
      "_________________________________________________________________\n",
      "leaky_re_lu_77 (LeakyReLU)   (None, 96, 96, 64)        0         \n",
      "_________________________________________________________________\n",
      "conv2d_transpose_57 (Conv2DT (None, 96, 96, 64)        36928     \n",
      "_________________________________________________________________\n",
      "batch_normalization_78 (Batc (None, 96, 96, 64)        256       \n",
      "_________________________________________________________________\n",
      "max_pooling2d_10 (MaxPooling (None, 48, 48, 64)        0         \n",
      "_________________________________________________________________\n",
      "leaky_re_lu_78 (LeakyReLU)   (None, 48, 48, 64)        0         \n",
      "_________________________________________________________________\n",
      "conv2d_transpose_58 (Conv2DT (None, 96, 96, 3)         1731      \n",
      "_________________________________________________________________\n",
      "batch_normalization_79 (Batc (None, 96, 96, 3)         12        \n",
      "_________________________________________________________________\n",
      "max_pooling2d_11 (MaxPooling (None, 32, 32, 3)         0         \n",
      "_________________________________________________________________\n",
      "leaky_re_lu_79 (LeakyReLU)   (None, 32, 32, 3)         0         \n",
      "=================================================================\n",
      "Total params: 739,279\n",
      "Trainable params: 732,105\n",
      "Non-trainable params: 7,174\n",
      "_________________________________________________________________\n"
     ]
    }
   ],
   "source": [
    "model.summary()"
   ]
  }
 ],
 "metadata": {
  "kernelspec": {
   "display_name": "Python 3",
   "language": "python",
   "name": "python3"
  },
  "language_info": {
   "codemirror_mode": {
    "name": "ipython",
    "version": 3
   },
   "file_extension": ".py",
   "mimetype": "text/x-python",
   "name": "python",
   "nbconvert_exporter": "python",
   "pygments_lexer": "ipython3",
   "version": "3.7.3"
  }
 },
 "nbformat": 4,
 "nbformat_minor": 2
}
