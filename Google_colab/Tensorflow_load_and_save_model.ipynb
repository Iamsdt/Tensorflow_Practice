{
  "nbformat": 4,
  "nbformat_minor": 0,
  "metadata": {
    "colab": {
      "name": "Tensorflow load and save model.ipynb",
      "version": "0.3.2",
      "provenance": []
    },
    "kernelspec": {
      "name": "python3",
      "display_name": "Python 3"
    },
    "accelerator": "GPU"
  },
  "cells": [
    {
      "cell_type": "code",
      "metadata": {
        "id": "lpSDaeH4O0lv",
        "colab_type": "code",
        "colab": {}
      },
      "source": [
        "import tensorflow as tf\n",
        "import numpy as np"
      ],
      "execution_count": 0,
      "outputs": []
    },
    {
      "cell_type": "code",
      "metadata": {
        "id": "cx_Hpuj6PnTP",
        "colab_type": "code",
        "outputId": "f2bf71cf-57ad-4c51-ec17-2f9be3af0dc7",
        "colab": {
          "base_uri": "https://localhost:8080/",
          "height": 51
        }
      },
      "source": [
        "mnist = tf.keras.datasets.mnist\n",
        "\n",
        "(x_train, y_train), (x_test, y_test) = mnist.load_data()"
      ],
      "execution_count": 0,
      "outputs": [
        {
          "output_type": "stream",
          "text": [
            "Downloading data from https://storage.googleapis.com/tensorflow/tf-keras-datasets/mnist.npz\n",
            "11493376/11490434 [==============================] - 0s 0us/step\n"
          ],
          "name": "stdout"
        }
      ]
    },
    {
      "cell_type": "code",
      "metadata": {
        "id": "Ohiw7bJmPnuO",
        "colab_type": "code",
        "colab": {}
      },
      "source": [
        "def normolize(img):\n",
        "  img = img / 255.0\n",
        "  return img"
      ],
      "execution_count": 0,
      "outputs": []
    },
    {
      "cell_type": "code",
      "metadata": {
        "id": "NlCM_8BNQxeQ",
        "colab_type": "code",
        "colab": {}
      },
      "source": [
        "x_train, x_test = x_train / 255.0, x_test / 255.0"
      ],
      "execution_count": 0,
      "outputs": []
    },
    {
      "cell_type": "code",
      "metadata": {
        "id": "eVspVeAhPo1I",
        "colab_type": "code",
        "outputId": "061fb2f9-8e7b-4a69-aede-2f3237aa1de2",
        "colab": {
          "base_uri": "https://localhost:8080/",
          "height": 255
        }
      },
      "source": [
        "from tensorflow.keras.layers import Flatten, Dense\n",
        "\n",
        "model = tf.keras.Sequential([\n",
        "  Flatten(input_shape=(28, 28)),\n",
        "  Dense(512, activation='relu'),\n",
        "  Dense(10, activation='softmax')\n",
        "])\n",
        "\n",
        "model.summary()"
      ],
      "execution_count": 0,
      "outputs": [
        {
          "output_type": "stream",
          "text": [
            "Model: \"sequential_3\"\n",
            "_________________________________________________________________\n",
            "Layer (type)                 Output Shape              Param #   \n",
            "=================================================================\n",
            "flatten_3 (Flatten)          (None, 784)               0         \n",
            "_________________________________________________________________\n",
            "dense_2 (Dense)              (None, 512)               401920    \n",
            "_________________________________________________________________\n",
            "dense_3 (Dense)              (None, 10)                5130      \n",
            "=================================================================\n",
            "Total params: 407,050\n",
            "Trainable params: 407,050\n",
            "Non-trainable params: 0\n",
            "_________________________________________________________________\n"
          ],
          "name": "stdout"
        }
      ]
    },
    {
      "cell_type": "code",
      "metadata": {
        "id": "LvdAocbvPow9",
        "colab_type": "code",
        "colab": {}
      },
      "source": [
        "model.compile(optimizer='adam', loss=tf.keras.losses.sparse_categorical_crossentropy, metrics=['accuracy'])"
      ],
      "execution_count": 0,
      "outputs": []
    },
    {
      "cell_type": "code",
      "metadata": {
        "id": "zDYMAAMlPotb",
        "colab_type": "code",
        "outputId": "37648b35-0aec-4e18-c930-0be2115a5c3a",
        "colab": {
          "base_uri": "https://localhost:8080/",
          "height": 374
        }
      },
      "source": [
        "model.fit(x_train, y_train, epochs=10)"
      ],
      "execution_count": 0,
      "outputs": [
        {
          "output_type": "stream",
          "text": [
            "Epoch 1/10\n",
            "60000/60000 [==============================] - 4s 72us/sample - loss: 0.2005 - acc: 0.9405\n",
            "Epoch 2/10\n",
            "60000/60000 [==============================] - 4s 61us/sample - loss: 0.0808 - acc: 0.9753\n",
            "Epoch 3/10\n",
            "60000/60000 [==============================] - 4s 62us/sample - loss: 0.0528 - acc: 0.9833\n",
            "Epoch 4/10\n",
            "60000/60000 [==============================] - 4s 61us/sample - loss: 0.0371 - acc: 0.9880\n",
            "Epoch 5/10\n",
            "60000/60000 [==============================] - 4s 62us/sample - loss: 0.0276 - acc: 0.9910\n",
            "Epoch 6/10\n",
            "60000/60000 [==============================] - 4s 62us/sample - loss: 0.0207 - acc: 0.9934\n",
            "Epoch 7/10\n",
            "60000/60000 [==============================] - 4s 62us/sample - loss: 0.0175 - acc: 0.9939\n",
            "Epoch 8/10\n",
            "60000/60000 [==============================] - 4s 63us/sample - loss: 0.0128 - acc: 0.9956\n",
            "Epoch 9/10\n",
            "60000/60000 [==============================] - 4s 63us/sample - loss: 0.0127 - acc: 0.9958\n",
            "Epoch 10/10\n",
            "60000/60000 [==============================] - 4s 63us/sample - loss: 0.0108 - acc: 0.9966\n"
          ],
          "name": "stdout"
        },
        {
          "output_type": "execute_result",
          "data": {
            "text/plain": [
              "<tensorflow.python.keras.callbacks.History at 0x7f76d33005c0>"
            ]
          },
          "metadata": {
            "tags": []
          },
          "execution_count": 23
        }
      ]
    },
    {
      "cell_type": "code",
      "metadata": {
        "id": "mDbD-jYSPoqK",
        "colab_type": "code",
        "outputId": "4a4a276e-9ac2-439a-f6f7-b6369d76a2c4",
        "colab": {
          "base_uri": "https://localhost:8080/",
          "height": 34
        }
      },
      "source": [
        "model.evaluate(x_test, y_test, verbose=10)"
      ],
      "execution_count": 0,
      "outputs": [
        {
          "output_type": "execute_result",
          "data": {
            "text/plain": [
              "[0.08202878550251289, 0.9806]"
            ]
          },
          "metadata": {
            "tags": []
          },
          "execution_count": 24
        }
      ]
    },
    {
      "cell_type": "code",
      "metadata": {
        "id": "4Y7Dt2RPPokE",
        "colab_type": "code",
        "colab": {}
      },
      "source": [
        "model.save_weights(\"saved\")"
      ],
      "execution_count": 0,
      "outputs": []
    },
    {
      "cell_type": "code",
      "metadata": {
        "id": "84SK_4WGPoUt",
        "colab_type": "code",
        "outputId": "9c0b6897-d6db-4323-b796-1cd034d63b79",
        "colab": {
          "base_uri": "https://localhost:8080/",
          "height": 34
        }
      },
      "source": [
        "model.evaluate(x_test, y_test, verbose=10)"
      ],
      "execution_count": 0,
      "outputs": [
        {
          "output_type": "execute_result",
          "data": {
            "text/plain": [
              "[0.08202878550251289, 0.9806]"
            ]
          },
          "metadata": {
            "tags": []
          },
          "execution_count": 35
        }
      ]
    },
    {
      "cell_type": "code",
      "metadata": {
        "id": "dxTEw9ZQPoMb",
        "colab_type": "code",
        "outputId": "fc22ca95-1f2a-49f0-a2de-7a8c24b6f916",
        "colab": {
          "base_uri": "https://localhost:8080/",
          "height": 34
        }
      },
      "source": [
        "model.load_weights('saved')"
      ],
      "execution_count": 0,
      "outputs": [
        {
          "output_type": "execute_result",
          "data": {
            "text/plain": [
              "<tensorflow.python.training.tracking.util.CheckpointLoadStatus at 0x7f76c4059c50>"
            ]
          },
          "metadata": {
            "tags": []
          },
          "execution_count": 34
        }
      ]
    },
    {
      "cell_type": "code",
      "metadata": {
        "id": "-dXRkr-UTqcx",
        "colab_type": "code",
        "colab": {}
      },
      "source": [
        "path = 'model/'"
      ],
      "execution_count": 0,
      "outputs": []
    },
    {
      "cell_type": "code",
      "metadata": {
        "id": "hjHYE2DHTyX2",
        "colab_type": "code",
        "colab": {}
      },
      "source": [
        "checkpoint_path = \"training_2/cp-{epoch:04d}.ckpt\""
      ],
      "execution_count": 0,
      "outputs": []
    },
    {
      "cell_type": "code",
      "metadata": {
        "id": "jRe8DbhnUSEr",
        "colab_type": "code",
        "colab": {}
      },
      "source": [
        "cp_callback = tf.keras.callbacks.ModelCheckpoint(\n",
        "    checkpoint_path, verbose=1, save_weights_only=True,\n",
        "    save_freq=len(x_train))"
      ],
      "execution_count": 0,
      "outputs": []
    },
    {
      "cell_type": "code",
      "metadata": {
        "id": "H4zpCxFsUbdg",
        "colab_type": "code",
        "outputId": "85606ea3-03dc-4800-f96c-253a08a9def8",
        "colab": {
          "base_uri": "https://localhost:8080/",
          "height": 714
        }
      },
      "source": [
        "model.fit (x_train, y_train, epochs=10, callbacks=[cp_callback], verbose=1)"
      ],
      "execution_count": 0,
      "outputs": [
        {
          "output_type": "stream",
          "text": [
            "Epoch 1/10\n",
            "59648/60000 [============================>.] - ETA: 0s - loss: 0.0105 - acc: 0.9964\n",
            "Epoch 00001: saving model to training_2/cp-0001.ckpt\n",
            "60000/60000 [==============================] - 4s 63us/sample - loss: 0.0105 - acc: 0.9965\n",
            "Epoch 2/10\n",
            "59328/60000 [============================>.] - ETA: 0s - loss: 0.0088 - acc: 0.9970\n",
            "Epoch 00002: saving model to training_2/cp-0002.ckpt\n",
            "60000/60000 [==============================] - 4s 60us/sample - loss: 0.0089 - acc: 0.9970\n",
            "Epoch 3/10\n",
            "59520/60000 [============================>.] - ETA: 0s - loss: 0.0079 - acc: 0.9974\n",
            "Epoch 00003: saving model to training_2/cp-0003.ckpt\n",
            "60000/60000 [==============================] - 4s 62us/sample - loss: 0.0079 - acc: 0.9974\n",
            "Epoch 4/10\n",
            "59584/60000 [============================>.] - ETA: 0s - loss: 0.0084 - acc: 0.9973\n",
            "Epoch 00004: saving model to training_2/cp-0004.ckpt\n",
            "60000/60000 [==============================] - 4s 61us/sample - loss: 0.0085 - acc: 0.9973\n",
            "Epoch 5/10\n",
            "59840/60000 [============================>.] - ETA: 0s - loss: 0.0070 - acc: 0.9975\n",
            "Epoch 00005: saving model to training_2/cp-0005.ckpt\n",
            "60000/60000 [==============================] - 4s 60us/sample - loss: 0.0070 - acc: 0.9975\n",
            "Epoch 6/10\n",
            "59872/60000 [============================>.] - ETA: 0s - loss: 0.0054 - acc: 0.9984\n",
            "Epoch 00006: saving model to training_2/cp-0006.ckpt\n",
            "60000/60000 [==============================] - 4s 62us/sample - loss: 0.0054 - acc: 0.9984\n",
            "Epoch 7/10\n",
            "59104/60000 [============================>.] - ETA: 0s - loss: 0.0055 - acc: 0.9982\n",
            "Epoch 00007: saving model to training_2/cp-0007.ckpt\n",
            "60000/60000 [==============================] - 4s 62us/sample - loss: 0.0057 - acc: 0.9981\n",
            "Epoch 8/10\n",
            "59360/60000 [============================>.] - ETA: 0s - loss: 0.0073 - acc: 0.9977\n",
            "Epoch 00008: saving model to training_2/cp-0008.ckpt\n",
            "60000/60000 [==============================] - 4s 61us/sample - loss: 0.0073 - acc: 0.9977\n",
            "Epoch 9/10\n",
            "59744/60000 [============================>.] - ETA: 0s - loss: 0.0079 - acc: 0.9974\n",
            "Epoch 00009: saving model to training_2/cp-0009.ckpt\n",
            "60000/60000 [==============================] - 4s 63us/sample - loss: 0.0079 - acc: 0.9974\n",
            "Epoch 10/10\n",
            "59488/60000 [============================>.] - ETA: 0s - loss: 0.0045 - acc: 0.9985\n",
            "Epoch 00010: saving model to training_2/cp-0010.ckpt\n",
            "60000/60000 [==============================] - 4s 61us/sample - loss: 0.0045 - acc: 0.9984\n"
          ],
          "name": "stdout"
        },
        {
          "output_type": "execute_result",
          "data": {
            "text/plain": [
              "<tensorflow.python.keras.callbacks.History at 0x7f76c1cb7978>"
            ]
          },
          "metadata": {
            "tags": []
          },
          "execution_count": 47
        }
      ]
    },
    {
      "cell_type": "code",
      "metadata": {
        "id": "utUYJQiEVM6f",
        "colab_type": "code",
        "outputId": "b4f9a130-b91f-479c-a474-9b57c4934358",
        "colab": {
          "base_uri": "https://localhost:8080/",
          "height": 34
        }
      },
      "source": [
        "# load latest model\n",
        "latest = tf.train.latest_checkpoint('training_2')\n",
        "latest"
      ],
      "execution_count": 0,
      "outputs": [
        {
          "output_type": "execute_result",
          "data": {
            "text/plain": [
              "'training_2/cp-0010.ckpt'"
            ]
          },
          "metadata": {
            "tags": []
          },
          "execution_count": 48
        }
      ]
    },
    {
      "cell_type": "code",
      "metadata": {
        "id": "iOEkNfAAViO5",
        "colab_type": "code",
        "outputId": "d4f43c9b-7a3d-4a37-e6c6-58abf1e80526",
        "colab": {
          "base_uri": "https://localhost:8080/",
          "height": 34
        }
      },
      "source": [
        "model.load_weights(latest)"
      ],
      "execution_count": 0,
      "outputs": [
        {
          "output_type": "execute_result",
          "data": {
            "text/plain": [
              "<tensorflow.python.training.tracking.util.CheckpointLoadStatus at 0x7f76c1adef98>"
            ]
          },
          "metadata": {
            "tags": []
          },
          "execution_count": 49
        }
      ]
    },
    {
      "cell_type": "code",
      "metadata": {
        "id": "OK9mPjO5VlRK",
        "colab_type": "code",
        "outputId": "427e1ae8-18a4-40ce-b1da-8f01bebaafe3",
        "colab": {
          "base_uri": "https://localhost:8080/",
          "height": 34
        }
      },
      "source": [
        "model.load_weights('training_2/cp-0004.ckpt')"
      ],
      "execution_count": 0,
      "outputs": [
        {
          "output_type": "execute_result",
          "data": {
            "text/plain": [
              "<tensorflow.python.training.tracking.util.CheckpointLoadStatus at 0x7f76c1a83048>"
            ]
          },
          "metadata": {
            "tags": []
          },
          "execution_count": 50
        }
      ]
    }
  ]
}